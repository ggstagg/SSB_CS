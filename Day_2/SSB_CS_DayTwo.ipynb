{
  "nbformat": 4,
  "nbformat_minor": 0,
  "metadata": {
    "colab": {
      "provenance": []
    },
    "kernelspec": {
      "name": "python3",
      "display_name": "Python 3"
    },
    "language_info": {
      "name": "python"
    }
  },
  "cells": [
    {
      "cell_type": "markdown",
      "source": [
        "# **Summer Springboard Computer Science Day Two**\n",
        "\n",
        "## **Make a copy in your Google Drive**\n",
        "## **Rename it to \"Day2_FirstnameLastname\"**\n",
        "## **Share your notebook with your instructor using the top right share button**\n",
        "\n"
      ],
      "metadata": {
        "id": "0OOEXb4DFG3L"
      }
    },
    {
      "cell_type": "markdown",
      "source": [
        "### Creating and using Variables"
      ],
      "metadata": {
        "id": "vEfuFgCo0MoW"
      }
    },
    {
      "cell_type": "markdown",
      "source": [
        "Use the **type()** function below to determine the types of the variables"
      ],
      "metadata": {
        "id": "eP0pEj6Q5LWJ"
      }
    },
    {
      "cell_type": "code",
      "source": [
        "var_one = 54\n",
        "var_two = 23.2\n",
        "var_three = True\n",
        "\n",
        "# Your code here\n",
        "# For example, running type(var_x) will tell you the type of var_x"
      ],
      "metadata": {
        "id": "0sh2ihwD0jWd"
      },
      "execution_count": 5,
      "outputs": []
    },
    {
      "cell_type": "markdown",
      "source": [
        "First, assign your age to a variable called **age** and print it using the **print()** function from the last lesson.\n",
        "\n"
      ],
      "metadata": {
        "id": "oYqsq0A-0fNu"
      }
    },
    {
      "cell_type": "code",
      "execution_count": 1,
      "metadata": {
        "id": "ZOKi8M-uE9Tz"
      },
      "outputs": [],
      "source": [
        "# Your code here"
      ]
    },
    {
      "cell_type": "markdown",
      "source": [
        "Now, create two string variables.  One should be called **first_name** and the second should be called **last_name** and they should contain what their name suggests."
      ],
      "metadata": {
        "id": "1ZCM5yMb0yut"
      }
    },
    {
      "cell_type": "code",
      "source": [
        "# Your code here"
      ],
      "metadata": {
        "id": "SoSU92-90-mP"
      },
      "execution_count": null,
      "outputs": []
    },
    {
      "cell_type": "markdown",
      "source": [
        "Next, convert the string **\"123\"** to an integer and print the result."
      ],
      "metadata": {
        "id": "NJRrJb1C1Dq7"
      }
    },
    {
      "cell_type": "code",
      "source": [
        "# Your code here"
      ],
      "metadata": {
        "id": "DmcB4LSY1KHq"
      },
      "execution_count": 2,
      "outputs": []
    },
    {
      "cell_type": "markdown",
      "source": [
        "Let's test out what happens when we mix different data types.\n",
        "\n",
        "First, add an integer and a float together and print the result."
      ],
      "metadata": {
        "id": "y9BuGAiN1L0k"
      }
    },
    {
      "cell_type": "code",
      "source": [
        "# Your code here"
      ],
      "metadata": {
        "id": "vwzCpdGa2NiB"
      },
      "execution_count": null,
      "outputs": []
    },
    {
      "cell_type": "markdown",
      "source": [
        "Secondly, try to concatenate a string an an integer."
      ],
      "metadata": {
        "id": "F2pGcMQh2ZPq"
      }
    },
    {
      "cell_type": "code",
      "source": [
        "# Your code here (you should expect an error when you run the code)"
      ],
      "metadata": {
        "id": "tvoKwO5k2eDy"
      },
      "execution_count": 4,
      "outputs": []
    },
    {
      "cell_type": "markdown",
      "source": [
        "### \\*\\*\\**PAUSE****"
      ],
      "metadata": {
        "id": "JkHAbqpc0RxZ"
      }
    },
    {
      "cell_type": "markdown",
      "source": [
        "Edit the code below so that should_go_to_school contains the value **True**\n",
        "\n",
        "Just replace the parts between the two **#** symbols; e.g.do not change **is_holiday** in the third line"
      ],
      "metadata": {
        "id": "EOR-39HjHzRY"
      }
    },
    {
      "cell_type": "code",
      "source": [
        "is_weekday = # Fill in the blank #\n",
        "is_holiday = False\n",
        "should_go_to_school = is_weekday # Fill in the blank # is_holiday\n",
        "\n",
        "print(\"Should go to school: \", should_go_to_school)"
      ],
      "metadata": {
        "id": "tT_X9Y_N0YAB"
      },
      "execution_count": null,
      "outputs": []
    },
    {
      "cell_type": "markdown",
      "source": [
        "Edit the code below so that can_go_hiking results in **False**, using the same rules as above."
      ],
      "metadata": {
        "id": "nFE8JOEdInj2"
      }
    },
    {
      "cell_type": "code",
      "source": [
        "is_sunny = # Fill in the blank #\n",
        "is_weekend = # Fill in the blank #\n",
        "can_go_hiking = is_sunny or is_weekend\n",
        "\n",
        "print(\"Can go hiking: \", can_go_hiking)"
      ],
      "metadata": {
        "id": "1ve0UEXoI_iO"
      },
      "execution_count": null,
      "outputs": []
    },
    {
      "cell_type": "markdown",
      "source": [
        "Using the same rules as above, edit the code below so that should_go_shopping results in **True**"
      ],
      "metadata": {
        "id": "RlVFIil1JMys"
      }
    },
    {
      "cell_type": "code",
      "source": [
        "is_fridge_empty = False\n",
        "out_of_milk = # Fill in the blank #\n",
        "out_of_bread = False\n",
        "should_go_shopping = is_fridge_empty or out_of_milk # Fill in the blank # out_of_bread\n",
        "\n",
        "print(\"Should go shopping: \", should_go_shopping)"
      ],
      "metadata": {
        "id": "OFpqDkxDJS26"
      },
      "execution_count": null,
      "outputs": []
    },
    {
      "cell_type": "markdown",
      "source": [
        "### \\*\\*\\**PAUSE****"
      ],
      "metadata": {
        "id": "eMlPSrZiHqx5"
      }
    },
    {
      "cell_type": "markdown",
      "source": [
        "Conditional Practice 1:\n",
        "\n",
        "Write a program that takes a score (out of 100) and prints the grade.  The grading system is as follows:\n",
        "   - Above 90: \"Excellent\"\n",
        "   - 80 to 90: \"Good\"\n",
        "   - 70 to 79: \"Average\"\n",
        "   - Below 70: \"Needs Improvement\""
      ],
      "metadata": {
        "id": "f19haIIC_RNZ"
      }
    },
    {
      "cell_type": "code",
      "source": [
        "score = 85 # You can change this value for different outputs\n",
        "\n",
        "# Your code here"
      ],
      "metadata": {
        "id": "lWBvFTq-_kVY"
      },
      "execution_count": null,
      "outputs": []
    },
    {
      "cell_type": "markdown",
      "source": [
        "Conditional Practice 2:\n",
        "\n",
        "Create a program that checks the time and prints a message if it's past 9PM but before 7AM.\n",
        "   - If it's between 9 PM and 7 AM: Print \"It's bedtime.\"\n",
        "   - Otherwise: Print \"It's not bedtime yet.\"\n",
        "  \n",
        "Hint: remember the logical operators we covered (**and**, **or**, **not**)."
      ],
      "metadata": {
        "id": "jrB8o1FS_0h1"
      }
    },
    {
      "cell_type": "code",
      "source": [
        "time = 22  # Use 24-hour format, you can change this value for different outputs\n",
        "\n",
        "# Your code here"
      ],
      "metadata": {
        "id": "_ssjeydmA9BF"
      },
      "execution_count": null,
      "outputs": []
    },
    {
      "cell_type": "markdown",
      "source": [
        "Conditional Practice 3:\n",
        "\n",
        "There are 3 things wrong with the code below!  Fix it so that it follows these specifications:\n",
        "\n",
        "A movie theater charges different ticket prices based on age. Write a program that applies the following rules:\n",
        "\n",
        "  -  Below age 13: $8\n",
        "\n",
        "  -  Age 13 to 59: $12\n",
        "\n",
        "  -  Age 60 and above: $10\n",
        "\n",
        "Hint: remember what we learned about the **if** statement syntax (order of statements, indentation) and also pay special attention to the age ranges specified."
      ],
      "metadata": {
        "id": "78SYhBvWAPOy"
      }
    },
    {
      "cell_type": "code",
      "source": [
        "age = 45  # You can change this value for different outputs\n",
        "\n",
        "if age <= 13:\n",
        "    print(\"Ticket Price: $8\")\n",
        "else:\n",
        "print(\"Ticket Price: $10\")\n",
        "elif age <= 59:\n",
        "    print(\"Ticket Price: $12\")"
      ],
      "metadata": {
        "id": "ueI_bLpU_0FY"
      },
      "execution_count": null,
      "outputs": []
    }
  ]
}