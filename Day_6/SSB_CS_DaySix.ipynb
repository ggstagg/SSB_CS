{
  "nbformat": 4,
  "nbformat_minor": 0,
  "metadata": {
    "colab": {
      "provenance": []
    },
    "kernelspec": {
      "name": "python3",
      "display_name": "Python 3"
    },
    "language_info": {
      "name": "python"
    }
  },
  "cells": [
    {
      "cell_type": "markdown",
      "source": [
        "# **Summer Springboard Computer Science Day Six**\n",
        "\n",
        "## **Make a copy in your Google Drive**\n",
        "## **Rename it to \"Day6_FirstnameLastname\"**\n",
        "## **Share your notebook with your instructor using the top right share button**"
      ],
      "metadata": {
        "id": "2OiluUPE6TK9"
      }
    },
    {
      "cell_type": "markdown",
      "source": [
        "### Numpy"
      ],
      "metadata": {
        "id": "YZck65B96qvj"
      }
    },
    {
      "cell_type": "markdown",
      "source": [
        "Problem 1: Array Transformation\n",
        "\n",
        "Create a **NumPy** array of the first 10 even numbers and reshape it into a 2x5 matrix.\n",
        "\n",
        "Hint: Look up the **np.arrange()** documentation if needed."
      ],
      "metadata": {
        "id": "gFnA3LZ77HSp"
      }
    },
    {
      "cell_type": "code",
      "source": [
        "import numpy as np\n",
        "\n",
        "# Your code here"
      ],
      "metadata": {
        "id": "M5fNCZY26pX-"
      },
      "execution_count": null,
      "outputs": []
    },
    {
      "cell_type": "markdown",
      "source": [
        "Problem 2: Array Operations\n",
        "\n",
        "Given an array of temperatures in Celsius, convert these to Fahrenheit\n",
        "\n",
        "Hint: To convert from Celsius to Fahrenheit, we use the function **f(C) = C * (9/5) + 32**"
      ],
      "metadata": {
        "id": "rlOWn3Lg7Z8G"
      }
    },
    {
      "cell_type": "code",
      "source": [
        "import numpy as np\n",
        "\n",
        "temperatures_celsius = np.array([20, 22, 19, 24, 25, 26])\n",
        "# Your code here\n",
        "print(temperatures_fahrenheit)"
      ],
      "metadata": {
        "id": "ZDTBAp5O7lkI"
      },
      "execution_count": null,
      "outputs": []
    },
    {
      "cell_type": "markdown",
      "source": [
        "Problem 3: Conditional Selection\n",
        "\n",
        "Create a **NumPy** array of integers from 1 to 15 and select values greater than 10"
      ],
      "metadata": {
        "id": "-KZBnLN07-pV"
      }
    },
    {
      "cell_type": "code",
      "source": [
        "import numpy as np\n",
        "\n",
        "# Your code here"
      ],
      "metadata": {
        "id": "oqGGhjgB8Tkp"
      },
      "execution_count": null,
      "outputs": []
    },
    {
      "cell_type": "markdown",
      "source": [
        "### \\*\\*\\**PAUSE****"
      ],
      "metadata": {
        "id": "Y4M540nM8ezY"
      }
    },
    {
      "cell_type": "markdown",
      "source": [
        "### Pandas\n",
        "\n",
        "Problem 1: DataFrame Creation and Selection\n",
        "\n",
        "Create a **Pandas** DataFrame using the below **fruits_data** dictionary.  Then, select the rows where **Quantity** is greater than 5"
      ],
      "metadata": {
        "id": "yLNd8M-A8s_N"
      }
    },
    {
      "cell_type": "code",
      "source": [
        "import pandas as pd\n",
        "\n",
        "fruits_data = {\n",
        "    'Name': ['Apple', 'Banana', 'Cherry', 'Date'],\n",
        "    'Quantity': [5, 8, 3, 12],\n",
        "    'Price per Unit': [0.5, 0.2, 0.75, 1]\n",
        "}\n",
        "\n",
        "# Your code here"
      ],
      "metadata": {
        "id": "4K5fLfhz8djd"
      },
      "execution_count": null,
      "outputs": []
    },
    {
      "cell_type": "markdown",
      "source": [
        "Problem 2: Code Analysis\n",
        "\n",
        "Read through the below code snippet.  Then, write a comment for each block of code explaining what is going on.  After this, answer the following comprehension questions:\n",
        "1.  What does axis=1 signify in the calculation of the average scores?\n",
        "2.  If a new subject were added to the dataset, how would you modify the code to include it in the average score calculation?\n",
        "3.  What insights can be drawn about the performance of the class in each subject based on the average scored calculated?"
      ],
      "metadata": {
        "id": "Un-TnePh9GNp"
      }
    },
    {
      "cell_type": "code",
      "source": [
        "import pandas as pd\n",
        "import numpy as np\n",
        "\n",
        "# Sample data: Student names, and their scores in Mathematics, English, and Science\n",
        "data = {\n",
        "    'Student': ['Alice', 'Bob', 'Charlie', 'David', 'Eva'],\n",
        "    'Mathematics': [82, 91, 78, 85, 92],\n",
        "    'English': [88, 79, 85, 83, 94],\n",
        "    'Science': [94, 88, 78, 92, 89]\n",
        "}\n",
        "\n",
        "# Insert comment here\n",
        "students_df = pd.DataFrame(data)\n",
        "\n",
        "# Insert comment here\n",
        "students_df['Average'] = np.mean(students_df[['Mathematics', 'English', 'Science']], axis=1)\n",
        "\n",
        "# Insert comment here\n",
        "students_df['Passed'] = students_df['Average'] >= 85\n",
        "\n",
        "print(students_df)\n",
        "\n",
        "# Insert comment here\n",
        "highest_average = students_df['Average'].max()\n",
        "\n",
        "# Insert comment here\n",
        "top_students = students_df[students_df['Average'] == highest_average]['Student'].tolist()\n",
        "\n",
        "# Insert comment here\n",
        "average_math = students_df['Mathematics'].mean()\n",
        "average_english = students_df['English'].mean()\n",
        "average_science = students_df['Science'].mean()\n",
        "\n",
        "print(f\"\\nHighest Average Score: {highest_average}\")\n",
        "print(f\"Top Students: {top_students}\")\n",
        "print(f\"\\nAverage Scores:\\nMathematics: {average_math}\\nEnglish: {average_english}\\nScience: {average_science}\")\n",
        "\n",
        "# Insert comment here\n",
        "pass_rate = (students_df['Passed'].sum() / len(students_df)) * 100\n",
        "print(f\"\\nPass Rate: {pass_rate}%\")"
      ],
      "metadata": {
        "id": "xCz7RQyn-Rds"
      },
      "execution_count": null,
      "outputs": []
    }
  ]
}