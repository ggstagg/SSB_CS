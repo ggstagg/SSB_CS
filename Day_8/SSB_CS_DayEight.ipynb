{
  "nbformat": 4,
  "nbformat_minor": 0,
  "metadata": {
    "colab": {
      "provenance": []
    },
    "kernelspec": {
      "name": "python3",
      "display_name": "Python 3"
    },
    "language_info": {
      "name": "python"
    }
  },
  "cells": [
    {
      "cell_type": "markdown",
      "source": [
        "# **Summer Springboard Computer Science Day Eight**\n",
        "\n",
        "## **Make a copy in your Google Drive**\n",
        "## **Rename it to \"Day8_FirstnameLastname\"**\n",
        "## **Share your notebook with your instructor using the top right share button**"
      ],
      "metadata": {
        "id": "a7gNa4tfOM8c"
      }
    },
    {
      "cell_type": "markdown",
      "source": [
        "### Inheritance"
      ],
      "metadata": {
        "id": "ICnCMAOkebqJ"
      }
    },
    {
      "cell_type": "markdown",
      "source": [
        "Problem 1: Define a Subclass\n",
        "\n",
        "Given a base class **Vehicle** that represents basic vehicles, define a subclass **Car** that inherits from **Vehicle** and adds an attribute **doors** (the number of doors the vehicle has).  Additionally, implement a method **display_info()** in **Car** that prints our the vehicle's make, model, and number of doors."
      ],
      "metadata": {
        "id": "FACVKAogfKuT"
      }
    },
    {
      "cell_type": "code",
      "execution_count": null,
      "metadata": {
        "id": "GboaT-C0OJHl"
      },
      "outputs": [],
      "source": [
        "class Vehicle:\n",
        "  def __init__(self, make, model):\n",
        "    self.make = make\n",
        "    self.model = model\n",
        "\n",
        "# Your code here"
      ]
    },
    {
      "cell_type": "markdown",
      "source": [
        "Problem 2: Fill in the Blanks\n",
        "\n",
        "Fill in the blanks below to correctly implement inheritance where **ElectricCar** is a subclass of **Car**, adding an additional attribute **battery_size**."
      ],
      "metadata": {
        "id": "2FSABgnvfpIt"
      }
    },
    {
      "cell_type": "code",
      "source": [
        "class Car:\n",
        "    def __init__(self, make, model):\n",
        "        self.make = make\n",
        "        self.model = model\n",
        "\n",
        "class ElectricCar(# Your code here #):\n",
        "    def __init__(self, make, model, battery_size):\n",
        "        # Your code here #.__init__(self, make, model)\n",
        "        self.battery_size = battery_size"
      ],
      "metadata": {
        "id": "WCz6j6FghHkD"
      },
      "execution_count": null,
      "outputs": []
    },
    {
      "cell_type": "markdown",
      "source": [
        "Problem 3: Fix the Code\n",
        "\n",
        "Fix the bugs in the below code, so that the code creates an instance of **SportsCar** and calls its **display_car()** method."
      ],
      "metadata": {
        "id": "DBRo1BYkhko1"
      }
    },
    {
      "cell_type": "code",
      "source": [
        "class Vehicle:\n",
        "    def __init__(self, make):\n",
        "        self.make = make\n",
        "\n",
        "class Car(Vehicle):\n",
        "    def __init__(self, make, model):\n",
        "        Vehicle.__init__(model)\n",
        "        self.model = model\n",
        "\n",
        "class SportsCar(Car):\n",
        "    def __init__(self, make, model, top_speed):\n",
        "        Car.__init__(self, make, model)\n",
        "        self.top_speed = top_speed\n",
        "\n",
        "    def display_car(self):\n",
        "        print(f\"Make: {self.make}, Model: {self.model}, Top Speed: {self.top_speed}mph\")\n",
        "\n",
        "my_sportscar = SportCar(\"Ferrari\", \"488 Spider\", 211)\n",
        "my_sportscar.display_car()\n"
      ],
      "metadata": {
        "id": "4THSpWwbht_T"
      },
      "execution_count": null,
      "outputs": []
    },
    {
      "cell_type": "markdown",
      "source": [
        "### \\*\\*\\**PAUSE****"
      ],
      "metadata": {
        "id": "oVqG2vVGekAc"
      }
    },
    {
      "cell_type": "markdown",
      "source": [
        "### Polymorphism"
      ],
      "metadata": {
        "id": "aJyG2KmpenhN"
      }
    },
    {
      "cell_type": "markdown",
      "source": [
        "Problem 1: Understanding Polymorphism\n",
        "\n",
        "Fill in the blanks below so that we can demonstrate polymorphism with a common interface for different payment methods."
      ],
      "metadata": {
        "id": "te78jHLEizpU"
      }
    },
    {
      "cell_type": "code",
      "source": [
        "class PaymentMethod:\n",
        "    def pay(self, amount):\n",
        "        pass\n",
        "\n",
        "class CreditCard(PaymentMethod):\n",
        "    def pay(self, amount):\n",
        "        print(f\"Paying ${amount} using CreditCard.\")\n",
        "\n",
        "class PayPal(PaymentMethod):\n",
        "    def __init__(self, email_address):\n",
        "        self.email_address = email_address\n",
        "\n",
        "    def pay(self, amount):\n",
        "        print(f\"Paying ${amount} using PayPal account: {self.email_address}\")\n",
        "\n",
        "def process_payment(# Your code here #, # Your code here #):\n",
        "    # Your code here #.pay(# Your code here #)\n",
        "\n",
        "# Usage\n",
        "credit_card = CreditCard()\n",
        "paypal = PayPal(\"user@example.com\")\n",
        "process_payment(credit_card, 100)\n",
        "process_payment(paypal, 75)\n"
      ],
      "metadata": {
        "id": "xiXOFjHJekic"
      },
      "execution_count": null,
      "outputs": []
    },
    {
      "cell_type": "markdown",
      "source": [
        "Problem 1.2: Deeper Understanding\n",
        "\n",
        "In a comment below, write an explanation of how polymorphism is used in the first part of the problem to process payments differently for each payment method."
      ],
      "metadata": {
        "id": "FH-7-jv2jXIg"
      }
    },
    {
      "cell_type": "code",
      "source": [
        "# Your explanation here"
      ],
      "metadata": {
        "id": "qT9PBGydjU-T"
      },
      "execution_count": null,
      "outputs": []
    },
    {
      "cell_type": "markdown",
      "source": [
        "Problem 2: Correct the Code\n",
        "\n",
        "Fix the bugs in the below code so that it runs properly.\n",
        "\n",
        "Hint: The output should be as follows:\n",
        "```\n",
        "Rendering a triangle\n",
        "Rendering a rectangle\n",
        "```\n",
        "\n",
        "\n"
      ],
      "metadata": {
        "id": "TD20_VEkjuIO"
      }
    },
    {
      "cell_type": "code",
      "source": [
        "class Shape:\n",
        "    def render(self):\n",
        "        print(\"Rendering a shape\")\n",
        "\n",
        "class Triangle(Shape):\n",
        "    def render(self):\n",
        "        print(\"Rendering a triangle\")\n",
        "\n",
        "class Rectangle(Shape):\n",
        "    def __init__(self):\n",
        "        super().render()\n",
        "\n",
        "    def render(self):\n",
        "        print(\"Rendering a rectangle\")\n",
        "\n",
        "shapes = [Triangle(), Rectangle()]\n",
        "for shape in shapes:\n",
        "    shape.render()\n"
      ],
      "metadata": {
        "id": "eHyheehcj3vm"
      },
      "execution_count": null,
      "outputs": []
    },
    {
      "cell_type": "markdown",
      "source": [
        "Problem 3: Implement Polymorphism\n",
        "\n",
        "Create two classes:\n",
        "1.  **Square**: takes a side length on initialization\n",
        "2.  **Circle**: takes a radius length on initialization\n",
        "\n",
        "Each of these classes should extend a base class **Shape**.  Both classes should override a method named **area()** from the **Shape** class. Demonstrate polymorphism by creating a function **print_area(shape)** that prints the area of the shape passed into it."
      ],
      "metadata": {
        "id": "6xpBHfvFkZcp"
      }
    },
    {
      "cell_type": "code",
      "source": [
        "# Your code here"
      ],
      "metadata": {
        "id": "gDVhBdKQkJlO"
      },
      "execution_count": null,
      "outputs": []
    }
  ]
}