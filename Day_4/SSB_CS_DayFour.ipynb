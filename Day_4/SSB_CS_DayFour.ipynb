{
  "nbformat": 4,
  "nbformat_minor": 0,
  "metadata": {
    "colab": {
      "provenance": []
    },
    "kernelspec": {
      "name": "python3",
      "display_name": "Python 3"
    },
    "language_info": {
      "name": "python"
    }
  },
  "cells": [
    {
      "cell_type": "markdown",
      "source": [
        "# **Summer Springboard Computer Science Day Four**\n",
        "\n",
        "## **Make a copy in your Google Drive**\n",
        "## **Rename it to \"Day4_FirstnameLastname\"**\n",
        "## **Share your notebook with your instructor using the top right share button**"
      ],
      "metadata": {
        "id": "DXv0b0f66V7e"
      }
    },
    {
      "cell_type": "markdown",
      "source": [
        "### Fun with Functions\n",
        "\n"
      ],
      "metadata": {
        "id": "TVM7Vk3f6h7p"
      }
    },
    {
      "cell_type": "markdown",
      "source": [
        "Problem 1: Fill in the Blanks\n",
        "\n",
        "Fill in the blanks below between the **#** symbols so that you have a working function that converts Fahrenheit to Celsius."
      ],
      "metadata": {
        "id": "nSyRdQ8G7aXq"
      }
    },
    {
      "cell_type": "code",
      "source": [
        "# Fill in the blank # convert_to_celsius(# Fill in the blank #):\n",
        "    # Fill in the blank # (fahrenheit - 32) * 5 / 9\n",
        "\n",
        "celsius = convert_to_celsius(68)  # Example usage\n",
        "print(\"Temperature in Celsius:\", celsius)\n"
      ],
      "metadata": {
        "id": "oWk_vnNS7a8-"
      },
      "execution_count": null,
      "outputs": []
    },
    {
      "cell_type": "markdown",
      "source": [
        "Problem 2: Area Calculation Function\n",
        "\n",
        "Create a function called **triangle_area** that takes the base and height of a triangle and returns its area.\n",
        "\n",
        "Hint: The formula for the area of a triangle is 0.5 * base * height"
      ],
      "metadata": {
        "id": "BNzfb8VJ60Gw"
      }
    },
    {
      "cell_type": "code",
      "source": [
        "# Your code here\n",
        "\n",
        "area = triangle_area(10, 5)  # Example usage\n",
        "print(\"Area of triangle:\", area)"
      ],
      "metadata": {
        "id": "tV2e3ybtNlK0"
      },
      "execution_count": null,
      "outputs": []
    },
    {
      "cell_type": "markdown",
      "source": [
        "Problem 3: Number of Digits\n",
        "\n",
        "Write a function called **count_digits** that takes an integer and returns the number of digits in it.\n",
        "\n",
        "Hint: There is a function, **len()**, that takes a string as an input and gives the length of the string as an output.  You may also want to make use of type casting."
      ],
      "metadata": {
        "id": "ML0HrTCF6zBD"
      }
    },
    {
      "cell_type": "code",
      "source": [
        "# Your code here\n",
        "\n",
        "print(count_digits(12345))  # Should print 5"
      ],
      "metadata": {
        "id": "CXa4aMu180Jt"
      },
      "execution_count": null,
      "outputs": []
    },
    {
      "cell_type": "markdown",
      "source": [
        "Problem 4: Sum of a List\n",
        "\n",
        "Write a function called **sum_list** that takes a list of numbers as an argument and returns the sum of all the numbers in the list.\n",
        "\n",
        "Hint: We did the code for summing a list yesterday."
      ],
      "metadata": {
        "id": "ix4Psv_d9FD2"
      }
    },
    {
      "cell_type": "code",
      "source": [
        "# Your code here\n",
        "\n",
        "print(sum_list([1, 2, 3, 4, 5]))  # Should print 15"
      ],
      "metadata": {
        "id": "p7wQzFZx9Qkc"
      },
      "execution_count": null,
      "outputs": []
    },
    {
      "cell_type": "markdown",
      "source": [
        "Problem 5: Odd or Even\n",
        "\n",
        "Write a function called **is_odd** that takes a number as an argument and returns **True** if the number is odd and **False** if it is even.\n",
        "\n",
        "Hint: There is a binary operator, **%**, which is called modulo. **a % b** returns the remainder of **a / b**.  So, for example, **8 % 3 = 2**, since the remainder of **8 / 3** is **2**. What number divides every even number? What is the remainder of this division?"
      ],
      "metadata": {
        "id": "KDt_4yON9T_t"
      }
    },
    {
      "cell_type": "code",
      "source": [
        "# Your code here\n",
        "\n",
        "print(is_odd(7))  # Should print True\n",
        "print(is_odd(4))  # Should print False"
      ],
      "metadata": {
        "id": "b0SgpJJJ-DLn"
      },
      "execution_count": null,
      "outputs": []
    },
    {
      "cell_type": "markdown",
      "source": [
        "### \\*\\*\\**PAUSE****"
      ],
      "metadata": {
        "id": "wO9uMC08-HYW"
      }
    },
    {
      "cell_type": "markdown",
      "source": [
        "### Debugging\n",
        "Problem 1: Error Messages\n",
        "\n",
        "Each of the 3 below code blocks has some error in the code.  Run the code block to see the error message.  In the commented space in each block, write the type of error (this will either be name, type, or syntax) and why you believe this error is occurring.  Then, take a few minutes to fix the bug so that the code works as it should."
      ],
      "metadata": {
        "id": "N85Rm-YzmkT2"
      }
    },
    {
      "cell_type": "code",
      "source": [
        "def print_message(message)\n",
        "    print(\"Message:\", message)\n",
        "\n",
        "print_message(\"Hello, Python!\")\n",
        "\n",
        "# Your comment here"
      ],
      "metadata": {
        "id": "FAkVscnQ-NDt"
      },
      "execution_count": null,
      "outputs": []
    },
    {
      "cell_type": "code",
      "source": [
        "age = input(\"Enter your age: \")\n",
        "print(\"In 10 years, you will be \" + age + 10 + \" years old.\")\n",
        "\n",
        "# Your comment here"
      ],
      "metadata": {
        "id": "KTOaJRp1naTn"
      },
      "execution_count": null,
      "outputs": []
    },
    {
      "cell_type": "code",
      "source": [
        "def calculate_area(radius):\n",
        "    area = 3.14 * radiius**2\n",
        "    return area\n",
        "\n",
        "print(calculate_area(5))\n",
        "\n",
        "# Your comment here"
      ],
      "metadata": {
        "id": "8YOyZ0yZnjga"
      },
      "execution_count": null,
      "outputs": []
    },
    {
      "cell_type": "markdown",
      "source": [
        "Problem 2: Using Print Statements\n",
        "\n",
        "Debug the following 2 code blocks, using print statements to figure out where the bugs are.\n",
        "\n",
        "Note: Here is the documentation for the **range()** function in case you are unfamiliar with it: https://docs.python.org/3/library/stdtypes.html#range\n"
      ],
      "metadata": {
        "id": "yzlndIF1n2wd"
      }
    },
    {
      "cell_type": "code",
      "source": [
        "# The following loop is supposed to print numbers from 1 to 5, but it's not\n",
        "# working as expected.\n",
        "for i in range(5):\n",
        "    print(i)"
      ],
      "metadata": {
        "id": "3WvKqhfLoiM4"
      },
      "execution_count": null,
      "outputs": []
    },
    {
      "cell_type": "code",
      "source": [
        "# The function add_numbers is not returning the expected result\n",
        "def add_numbers(a, b):\n",
        "    result = a + b\n",
        "    return result\n",
        "\n",
        "print(add_numbers(2, \"3\"))"
      ],
      "metadata": {
        "id": "6UHU5tioopar"
      },
      "execution_count": null,
      "outputs": []
    },
    {
      "cell_type": "markdown",
      "source": [
        "Problem 3: Breaking Down the Code\n",
        "\n",
        "Debug the following 2 code blocks by breaking down the code into smaller segments to identify and fix issues."
      ],
      "metadata": {
        "id": "pbqQW616pDXw"
      }
    },
    {
      "cell_type": "code",
      "source": [
        "# The function calculate_discount is supposed to return the discounted price of\n",
        "# an item after applying a discount percentage, but it's returning incorrect\n",
        "# results. Break down the function and test its components to find and fix the\n",
        "# error.\n",
        "def calculate_discount(price, discount):\n",
        "    discount_amount = price * (discount / 100)\n",
        "    new_price = price - discount\n",
        "    return new_price\n",
        "\n",
        "print(calculate_discount(100, 20))  # Expected output: 80"
      ],
      "metadata": {
        "id": "2zcv21_OpDG5"
      },
      "execution_count": null,
      "outputs": []
    },
    {
      "cell_type": "code",
      "source": [
        "# A loop is intended to sum all even numbers in a list, but it’s giving the\n",
        "# wrong total. Break the loop into smaller parts to find and correct the\n",
        "# mistake.\n",
        "numbers = [1, 2, 3, 4, 5, 6]\n",
        "total = 0\n",
        "for number in numbers:\n",
        "    if number % 2 == 1:\n",
        "        total += number\n",
        "print(total)  # Expected output: 12 (sum of 2, 4, 6)"
      ],
      "metadata": {
        "id": "yxtF3jnAo5l1"
      },
      "execution_count": null,
      "outputs": []
    },
    {
      "cell_type": "markdown",
      "source": [
        "Problem 4: **pdb**\n",
        "\n",
        "For this problem, we will use **pdb**, Python's built-in debugger.  To use **pdb**, run each of the 2 code blocks below and use the following directions:\n",
        "\n",
        "1.    Use **n** to step through each line in the function.\n",
        "2.    Use **p combined_sum** to inspect the combined_sum list after each addition.\n",
        "3.    Check if elements from both lists are being added correctly."
      ],
      "metadata": {
        "id": "ifE8dj7JqJH8"
      }
    },
    {
      "cell_type": "code",
      "source": [
        "# You have a function that is supposed to calculate the factorial of a number,\n",
        "# but it's returning incorrect results. Use pdb to step through the code and\n",
        "# find the issue.\n",
        "\n",
        "import pdb\n",
        "\n",
        "def factorial(n):\n",
        "    pdb.set_trace()\n",
        "    result = 1\n",
        "    for i in range(n):\n",
        "        result *= i\n",
        "    return result\n",
        "\n",
        "print(factorial(5))  # Expected output: 120\n"
      ],
      "metadata": {
        "id": "D_zfat2Yryz_"
      },
      "execution_count": null,
      "outputs": []
    },
    {
      "cell_type": "code",
      "source": [
        "# A program is designed to sum the elements of two lists and store the results\n",
        "# in a new list. However, the output is not as expected.\n",
        "# Use pdb to inspect the variables.\n",
        "\n",
        "import pdb\n",
        "\n",
        "def sum_lists(list1, list2):\n",
        "   # pdb.set_trace()\n",
        "    combined_sum = []\n",
        "    for i in range(len(list1)):\n",
        "        combined_sum.append(list1[i] - list2[i])\n",
        "    return combined_sum\n",
        "\n",
        "result = sum_lists([1, 2, 3], [4, 5, 6])\n",
        "print(result)  # Expected output: [5, 7, 9]"
      ],
      "metadata": {
        "id": "GyDAX4Heqk11"
      },
      "execution_count": null,
      "outputs": []
    }
  ]
}