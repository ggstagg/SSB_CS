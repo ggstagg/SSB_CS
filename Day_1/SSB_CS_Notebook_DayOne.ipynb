{
  "nbformat": 4,
  "nbformat_minor": 0,
  "metadata": {
    "colab": {
      "provenance": []
    },
    "kernelspec": {
      "name": "python3",
      "display_name": "Python 3"
    },
    "language_info": {
      "name": "python"
    }
  },
  "cells": [
    {
      "cell_type": "markdown",
      "source": [
        "# **Summer Springboard Computer Science Day One**\n",
        "\n",
        "## **Make a copy in your Google Drive**\n",
        "## **Rename it to \"Day1_FirstnameLastname\"**\n",
        "## **Share your notebook with your instructor using the top right share button**\n",
        "\n"
      ],
      "metadata": {
        "id": "dPZRFi1G532h"
      }
    },
    {
      "cell_type": "markdown",
      "source": [
        "Remember: comments in Python start with the character '#'\n",
        "\n",
        "To display a string (sequence of characters) in Python, use print!\n",
        "*   print(your_string) will print your_string to the console"
      ],
      "metadata": {
        "id": "mjCUoIE76YCq"
      }
    },
    {
      "cell_type": "code",
      "source": [
        "# Let's start with a classic \"Hello World\" program\n",
        "# Uncomment the below comment and run this cell to run your first Python program!\n",
        "\n",
        "# print(\"Hello world!\")"
      ],
      "metadata": {
        "id": "myUsKbcP5Jyu"
      },
      "execution_count": null,
      "outputs": []
    },
    {
      "cell_type": "markdown",
      "source": [
        "In Python, we have many different binary operators:\n",
        "\n",
        "\n",
        "*   Addition (+)\n",
        "*   Subtraction (-)\n",
        "*   Multiplication (*)\n",
        "*   Exponentiation (**)\n",
        "*   Division (/)\n",
        "*   Modulo (%)"
      ],
      "metadata": {
        "id": "T-yE8eZK6p9M"
      }
    },
    {
      "cell_type": "markdown",
      "source": [
        "We also have many data types.  For now, we will just focus on two numeric data types:\n",
        "*   integers (int) are numbers that do not have a decimal point, such as 2, 45, -8\n",
        "*   floats are numbers that do have a decimal point, such as 2.71, 3.14, 1.0, -9.0001\n",
        "\n",
        "Now let's do some basic math.  Execute the below cells to see Python math in action"
      ],
      "metadata": {
        "id": "0BJiDfzP7Onn"
      }
    },
    {
      "cell_type": "code",
      "source": [
        "# 2 + 2 <- addition of two integers\n",
        "2 + 2"
      ],
      "metadata": {
        "id": "Ekk5D5vk6U3d"
      },
      "execution_count": null,
      "outputs": []
    },
    {
      "cell_type": "code",
      "source": [
        "# 4.0 - 7.9 <- subtraction of two floats\n",
        "4.0 - 7.8"
      ],
      "metadata": {
        "id": "7dS8_FgP8Pel"
      },
      "execution_count": null,
      "outputs": []
    },
    {
      "cell_type": "code",
      "source": [
        "# 2 ^ 5 <- 2 to the power of 5\n",
        "2 ** 5"
      ],
      "metadata": {
        "id": "MTbo-uFb8MlO"
      },
      "execution_count": null,
      "outputs": []
    },
    {
      "cell_type": "code",
      "source": [
        "# 81.0 / 9.0 <- division of two floats\n",
        "81.0 / 9.0"
      ],
      "metadata": {
        "id": "HAYptAav8bi6"
      },
      "execution_count": null,
      "outputs": []
    },
    {
      "cell_type": "markdown",
      "source": [
        "We can use parentheses to group operations together.  For example, (2 + 2) / 4 results in 1.0"
      ],
      "metadata": {
        "id": "btbPUM1Q9Udl"
      }
    },
    {
      "cell_type": "code",
      "source": [
        "(2 + 2) / 4"
      ],
      "metadata": {
        "colab": {
          "base_uri": "https://localhost:8080/"
        },
        "id": "MSGdOyu18eeD",
        "outputId": "3e00bf7e-85f0-4a49-b7e0-d52d53825ace"
      },
      "execution_count": 15,
      "outputs": [
        {
          "output_type": "execute_result",
          "data": {
            "text/plain": [
              "1.0"
            ]
          },
          "metadata": {},
          "execution_count": 15
        }
      ]
    },
    {
      "cell_type": "markdown",
      "source": [
        "# Your turn!\n",
        "Answer the below questions / fill in the blanks.  If you cannot answer all of the questions at this moment, that is okay!"
      ],
      "metadata": {
        "id": "_h9rEAai-tPo"
      }
    },
    {
      "cell_type": "markdown",
      "source": [
        "**Question 1**\n",
        "\n",
        "Uncomment and fill in the blank so that, when executed, the below cell results in \"82\" (replace \\_blank_ with your answer)"
      ],
      "metadata": {
        "id": "gMOI9-Tk-7Vq"
      }
    },
    {
      "cell_type": "code",
      "source": [
        "# (9 _blank_ 2) + 1"
      ],
      "metadata": {
        "id": "CBX3m-F09fec"
      },
      "execution_count": null,
      "outputs": []
    },
    {
      "cell_type": "markdown",
      "source": [
        "**Question 2**\n",
        "\n",
        "Write a print statement that prints your name to the console."
      ],
      "metadata": {
        "id": "7Q3I8VwQ_C50"
      }
    },
    {
      "cell_type": "code",
      "source": [],
      "metadata": {
        "id": "n6Al_j-q_ESi"
      },
      "execution_count": null,
      "outputs": []
    },
    {
      "cell_type": "markdown",
      "source": [
        "**Question 3**\n",
        "\n",
        "Uncomment and fill in the blanks so that, when executed, the below cell results in \"-2.0\""
      ],
      "metadata": {
        "id": "OWbOpqvq_ExR"
      }
    },
    {
      "cell_type": "code",
      "source": [
        "# (92 * _blank1_) + (_blank2_)"
      ],
      "metadata": {
        "id": "7-3u3XRp_Fy7"
      },
      "execution_count": null,
      "outputs": []
    },
    {
      "cell_type": "markdown",
      "source": [
        "**Question 4**\n",
        "\n",
        "Using 'print', print the result of 8 ** 5"
      ],
      "metadata": {
        "id": "fPb-Q5LW_GlE"
      }
    },
    {
      "cell_type": "code",
      "source": [],
      "metadata": {
        "id": "AQ4bp0Em_HzF"
      },
      "execution_count": null,
      "outputs": []
    },
    {
      "cell_type": "markdown",
      "source": [
        "**Question 5**\n",
        "\n",
        "Re-write the expression 9 * 9 * 9 * 9 using the ** operator."
      ],
      "metadata": {
        "id": "iAP8moyn_IOk"
      }
    },
    {
      "cell_type": "code",
      "source": [],
      "metadata": {
        "id": "0bI8a9qq_JOJ"
      },
      "execution_count": null,
      "outputs": []
    }
  ]
}