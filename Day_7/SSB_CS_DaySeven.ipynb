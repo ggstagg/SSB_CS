{
  "nbformat": 4,
  "nbformat_minor": 0,
  "metadata": {
    "colab": {
      "provenance": []
    },
    "kernelspec": {
      "name": "python3",
      "display_name": "Python 3"
    },
    "language_info": {
      "name": "python"
    }
  },
  "cells": [
    {
      "cell_type": "markdown",
      "source": [
        "# **Summer Springboard Computer Science Day Seven**\n",
        "\n",
        "## **Make a copy in your Google Drive**\n",
        "## **Rename it to \"Day7_FirstnameLastname\"**\n",
        "## **Share your notebook with your instructor using the top right share button**"
      ],
      "metadata": {
        "id": "aEiXSSe2Njsy"
      }
    },
    {
      "cell_type": "markdown",
      "source": [
        "### Objects"
      ],
      "metadata": {
        "id": "U21yk144Nq0c"
      }
    },
    {
      "cell_type": "markdown",
      "source": [
        "Problem 1: Fill in the Blanks\n",
        "\n",
        "Given the below **Circle** class, fill in the blank to correctly calculate the area of a circle.\n",
        "\n",
        "Hint: the constant **pi** can be found in the **math** module."
      ],
      "metadata": {
        "id": "vQWMPdpnNvO9"
      }
    },
    {
      "cell_type": "code",
      "source": [
        "# Your code here #\n",
        "\n",
        "class Circle:\n",
        "    def __init__(self, radius):\n",
        "        self.radius = radius\n",
        "\n",
        "    def area(self):\n",
        "        return # Your code here # * self.radius ** 2"
      ],
      "metadata": {
        "id": "ws2AYtJLNjft"
      },
      "execution_count": null,
      "outputs": []
    },
    {
      "cell_type": "markdown",
      "source": [
        "Problem 1.2: Modify the Constructor\n",
        "\n",
        "Add a constructor to the above **Circle** class that accepts a **color** attribute.  Then, create a method called **get_color** that returns the **color** value of the **Circle**."
      ],
      "metadata": {
        "id": "L48ZKxl3cgba"
      }
    },
    {
      "cell_type": "markdown",
      "source": [
        "Problem 2: Debug the Code\n",
        "\n",
        "Identify and fix the issue in the below code containing the **Temperature** class."
      ],
      "metadata": {
        "id": "bl_KSDRoOmvx"
      }
    },
    {
      "cell_type": "code",
      "execution_count": null,
      "metadata": {
        "id": "rSiwIOo6D5SV"
      },
      "outputs": [],
      "source": [
        "class Temperature:\n",
        "    def __init__(self, celsius):\n",
        "        self.celsius = celsius\n",
        "\n",
        "    def get_fahrenheit(self):\n",
        "        return self.celsius * 9 / 5 + 32\n",
        "\n",
        "temp = Temperature(0)\n",
        "print(temp.getFahrenheit())\n"
      ]
    },
    {
      "cell_type": "markdown",
      "source": [
        "Problem 3: Debug the Code Pt 2\n",
        "\n",
        "Identify and fix the issues in the below code containing the **Student** class.  Make sure that your code can handle the case that **grades** is **None** when initializing."
      ],
      "metadata": {
        "id": "wW7S5tYJO4fp"
      }
    },
    {
      "cell_type": "code",
      "source": [
        "class Student:\n",
        "    def _init__(self, name, grades=None):\n",
        "        self.name = name\n",
        "        self.grades = grades\n",
        "\n",
        "    def add_grade(self, grade):\n",
        "        grades.append(grade)\n",
        "\n",
        "    def get_average(self):\n",
        "        return sum(self.grades) / len(grades)\n",
        "\n",
        "student1 = Student(\"Giovanni\")\n",
        "student1.addGrade(88)\n",
        "student2 = Student(\"Paul\", [92, 76, 88])\n",
        "print(student2.getAverage())"
      ],
      "metadata": {
        "id": "56_5zVGJD54w"
      },
      "execution_count": null,
      "outputs": []
    },
    {
      "cell_type": "markdown",
      "source": [
        "Problem 4: Create a Class\n",
        "\n",
        "Create a class named **Book** with two attributes:\n",
        "1.  **title** which holds the title of the book\n",
        "2.  **author** which holds the author of the book\n",
        "\n",
        "Then, write a method **get_details** that returns a string formatted as follows:\n",
        "**Title: [title], Author: [author]\"** Note that the values of each attribute are contained within brackets."
      ],
      "metadata": {
        "id": "JCQe8C-QXboy"
      }
    },
    {
      "cell_type": "code",
      "source": [
        "# Your code here"
      ],
      "metadata": {
        "id": "mjZraLDGWn23"
      },
      "execution_count": null,
      "outputs": []
    },
    {
      "cell_type": "markdown",
      "source": [
        "Problem 4.2: Instantiate an Object\n",
        "\n",
        "Using the **Book** class from above, create an object representing the book **The Odyssey** by **Homer**.  Then, print the details of the book using the **get_details** method."
      ],
      "metadata": {
        "id": "e2mYPJEybrRA"
      }
    },
    {
      "cell_type": "code",
      "source": [
        "# Your code here"
      ],
      "metadata": {
        "id": "rJhcnoNvXau9"
      },
      "execution_count": null,
      "outputs": []
    },
    {
      "cell_type": "markdown",
      "source": [
        "Problem 5: Working with Multiple Objects\n",
        "\n",
        "Define a class called **Person** with two attributres:\n",
        "1.  **name** which holds the name of the person\n",
        "2.  **age** which holds the age of the person\n",
        "\n",
        "Then, create two **Person** objects with different names and ages.  Write a function **compare_age** that takes two **Person** objects and prints which person is older (you can choose the functionality for the case that they are the same age)."
      ],
      "metadata": {
        "id": "2z0DgEQrcVI_"
      }
    },
    {
      "cell_type": "code",
      "source": [
        "# Your code here"
      ],
      "metadata": {
        "id": "9ShqfSTIdMUe"
      },
      "execution_count": null,
      "outputs": []
    }
  ]
}