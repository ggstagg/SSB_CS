{
  "nbformat": 4,
  "nbformat_minor": 0,
  "metadata": {
    "colab": {
      "provenance": []
    },
    "kernelspec": {
      "name": "python3",
      "display_name": "Python 3"
    },
    "language_info": {
      "name": "python"
    }
  },
  "cells": [
    {
      "cell_type": "markdown",
      "source": [
        "# **Summer Springboard Computer Science Day Two**\n",
        "\n",
        "## **Make a copy in your Google Drive**\n",
        "## **Rename it to \"Day2_FirstnameLastname\"**\n",
        "## **Share your notebook with your instructor using the top right share button**"
      ],
      "metadata": {
        "id": "ihOIcNjs3tVS"
      }
    },
    {
      "cell_type": "markdown",
      "source": [
        "### Creating and Using Lists"
      ],
      "metadata": {
        "id": "zzxPXaiw4VEc"
      }
    },
    {
      "cell_type": "markdown",
      "source": [
        "Problem 1: Add and Remove Elements from a List\n",
        "\n",
        "Complete the following list of steps so that when the cell is run, **['red', 'blue', 'yellow']** is printed.\n",
        "\n",
        "1.  Create a list named **colors** with the elements **\"red\"**, **\"green\"**, **\"blue\"**.\n",
        "\n",
        "2.   Add **\"yellow\"** to the end of the list\n",
        "\n",
        "3.   Remove **\"green\"** from the list\n",
        "\n"
      ],
      "metadata": {
        "id": "_WsV1xLk4qFi"
      }
    },
    {
      "cell_type": "code",
      "execution_count": null,
      "metadata": {
        "id": "gRx5HpslwTHD"
      },
      "outputs": [],
      "source": [
        "# Your code here\n",
        "\n",
        "print(colors)"
      ]
    },
    {
      "cell_type": "markdown",
      "source": [
        "Problem 2: List Concatenation\n",
        "\n",
        "Strings are like lists of characters.  Remember that we used the concatenation operator, **+**, to combine two strings.  We can use the same operator to concatenate (combine) two lists.\n",
        "\n",
        "Given the two lists below, **list_1** and **list_2**, concatenate them into a new list called **combined_list** and print it."
      ],
      "metadata": {
        "id": "_eaHGJiC5oSR"
      }
    },
    {
      "cell_type": "code",
      "source": [
        "list_1 = [1, 2, 3]\n",
        "list_2 = [4, 5, 6]\n",
        "\n",
        "# Your code here"
      ],
      "metadata": {
        "id": "a8NniSDBwYLS"
      },
      "execution_count": null,
      "outputs": []
    },
    {
      "cell_type": "markdown",
      "source": [
        "Problem 3: Tuple Creation and Access\n",
        "\n",
        "Create a tuple **weekdays** containing the days of the week.  Then, print the element at index 3 in **weekdays**."
      ],
      "metadata": {
        "id": "ap54LUPm6aU8"
      }
    },
    {
      "cell_type": "code",
      "source": [
        "# Your code here"
      ],
      "metadata": {
        "id": "e6PuJx6twg8T"
      },
      "execution_count": null,
      "outputs": []
    },
    {
      "cell_type": "markdown",
      "source": [
        "Problem 4: Dictionary Manipulation\n",
        "\n",
        "Complete the following list of steps:\n",
        "\n",
        "1.   Create a dictionary **person** with keys **name** and **age** and values **Alice** and **30** respectively.\n",
        "\n",
        "2.   Add a new key-value pair **\"city\" : \"New York\"**\n",
        "\n",
        "3.   Update the **age** to **31**\n",
        "\n",
        "4.   Print the **person** dictionary."
      ],
      "metadata": {
        "id": "HsLdP7lS6oel"
      }
    },
    {
      "cell_type": "code",
      "source": [
        "# Your code here"
      ],
      "metadata": {
        "id": "Qym7ZadC7F7G"
      },
      "execution_count": null,
      "outputs": []
    },
    {
      "cell_type": "markdown",
      "source": [
        "Problem 5: Printing Elements of a List\n",
        "\n",
        "Complete the code below so that each element of **treasure_chest** is printed.\n",
        "\n",
        "This task may feel a bit repetitive.  If only there were a quicker way of doing this..."
      ],
      "metadata": {
        "id": "TRD4BhyV7am3"
      }
    },
    {
      "cell_type": "code",
      "source": [
        "treasure_chest = [\"gems\", \"gold\", \"bones\", \"diamonds\", \"rings\"]\n",
        "\n",
        "print(treasure_chest[0])\n",
        "print(treasure_chest[1])\n",
        "# Your code here"
      ],
      "metadata": {
        "id": "amXvYXCr7pc4"
      },
      "execution_count": null,
      "outputs": []
    },
    {
      "cell_type": "markdown",
      "source": [
        "### \\*\\*\\**PAUSE****"
      ],
      "metadata": {
        "id": "xnYxD2Br7MsK"
      }
    },
    {
      "cell_type": "markdown",
      "source": [
        "Problem 1: List Iteration\n",
        "\n",
        "1.   Create a list of your three favorite fruits / vegetables called **favorite_healthy_foods**\n",
        "\n",
        "2.   Use a **for** loop to iterate over the list and print each fruit in uppercase*\n",
        "\n",
        "\\* to make a string upppercase, use the **upper()** function.  For example, **my_string.upper()** makes **my_string** uppercase."
      ],
      "metadata": {
        "id": "CpTQoKJYPbiq"
      }
    },
    {
      "cell_type": "code",
      "source": [
        "# Your code here"
      ],
      "metadata": {
        "id": "HQwDEtOv7S71"
      },
      "execution_count": null,
      "outputs": []
    },
    {
      "cell_type": "markdown",
      "source": [
        "Problem 2: Conditional within a Loop\n",
        "\n",
        "Given a list of numbers, **numbers**, use a **for** loop to iterate through the list and print each number that is greater than 10."
      ],
      "metadata": {
        "id": "gcqphnwLQGIV"
      }
    },
    {
      "cell_type": "code",
      "source": [
        "numbers = [4, 15, 9, 20, 3]  # you can edit this list to try out different sets of numbers\n",
        "\n",
        "# Your code here"
      ],
      "metadata": {
        "id": "YgsEx4k0Pa7W"
      },
      "execution_count": null,
      "outputs": []
    },
    {
      "cell_type": "markdown",
      "source": [
        "Problem 3: Summation within a Loop\n",
        "\n",
        "Given a list of integers, **integers**, use a **for** loop to calculate the sum of all integers in the list.  Then, print the total sum."
      ],
      "metadata": {
        "id": "rBeX1uMPQXYH"
      }
    },
    {
      "cell_type": "code",
      "source": [
        "integers = [5, 10, 15, 20]  # you can edit this list to try out different sets of integers\n",
        "\n",
        "# Your code here"
      ],
      "metadata": {
        "id": "KNBMIR4uQlGN"
      },
      "execution_count": null,
      "outputs": []
    },
    {
      "cell_type": "markdown",
      "source": [
        "Problem 4: While Loop With Condition\n",
        "\n",
        "1.   Initialize a variable **counter** to 0.\n",
        "\n",
        "2.   Use a **while** loop to increment **counter** by 1 as long as **counter** is less than 5.\n",
        "\n",
        "3.   Print the value of **counter** in each iteration."
      ],
      "metadata": {
        "id": "SlFo688XQudn"
      }
    },
    {
      "cell_type": "code",
      "source": [
        "# Your code here"
      ],
      "metadata": {
        "id": "Wr3sG07QREM0"
      },
      "execution_count": null,
      "outputs": []
    }
  ]
}