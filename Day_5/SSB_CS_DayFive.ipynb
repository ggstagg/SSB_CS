{
  "nbformat": 4,
  "nbformat_minor": 0,
  "metadata": {
    "colab": {
      "provenance": []
    },
    "kernelspec": {
      "name": "python3",
      "display_name": "Python 3"
    },
    "language_info": {
      "name": "python"
    }
  },
  "cells": [
    {
      "cell_type": "markdown",
      "source": [
        "# **Summer Springboard Computer Science Day Five**\n",
        "\n",
        "## **Make a copy in your Google Drive**\n",
        "## **Rename it to \"Day5_FirstnameLastname\"**\n",
        "## **Share your notebook with your instructor using the top right share button**"
      ],
      "metadata": {
        "id": "9c7kv108sQuK"
      }
    },
    {
      "cell_type": "markdown",
      "source": [
        "### Try / Except Blocks"
      ],
      "metadata": {
        "id": "tmOYbk1osXe-"
      }
    },
    {
      "cell_type": "markdown",
      "source": [
        "Problem 1: Handling Invalid Input\n",
        "\n",
        "Modify the code below so that we have a program that asks the user to input an integer and prints the square of the number.  We want to use **try** / **except** blocks to handle non-integer inputs.  When the input is not an integer, you should have the program print \"Error: Please enter a valid integer.\"\n",
        "\n",
        "Hint: You will want to make use of the **ValueError** exception\n",
        "\n",
        "Challenge: Find a way to have the program continue asking for an integer if the user does not enter one."
      ],
      "metadata": {
        "id": "hMcyTMpf20LS"
      }
    },
    {
      "cell_type": "code",
      "source": [
        "def square_number():\n",
        "    num = int(input(\"Enter an integer: \"))\n",
        "    print(\"Square of the number:\", num ** 2)\n",
        "\n",
        "square_number()\n"
      ],
      "metadata": {
        "id": "VmNHbiwAz1_G"
      },
      "execution_count": null,
      "outputs": []
    },
    {
      "cell_type": "markdown",
      "source": [
        "Problem 2: Fixing **safe_divide()**\n",
        "\n",
        "The code below has some problems with it!  Use your debugging skills to fix it so that it works properly.\n",
        "\n",
        "Hint: Remember the **ZeroDivisionError** exception from the slides."
      ],
      "metadata": {
        "id": "Rtww__AMlD16"
      }
    },
    {
      "cell_type": "code",
      "source": [
        "def safe_divide():\n",
        "    try:\n",
        "        num1 = float(input(\"Enter the first number: \"))\n",
        "        num_2 = float(input(\"Enter the second number: \"))\n",
        "        result = num1 / num2\n",
        "    else:\n",
        "        print(\"Result:\", result)\n",
        "    except:\n",
        "        print(\"Error: Cannot divide by zero.\")\n",
        "\n",
        "safe_divide()\n"
      ],
      "metadata": {
        "id": "Cvw-8YRPkNu_"
      },
      "execution_count": null,
      "outputs": []
    },
    {
      "cell_type": "markdown",
      "source": [
        "Problem 3: Code Analysis and Fix-Up\n",
        "\n",
        "Read the code below to try to determine what it is trying to do.  The issue with this code is that the variable names are not expressive, which makes it harder for others to tell what is going on with it.  \n",
        "\n",
        "Your job is to write in the comment at the end what you believe the code is doing.  Then, you should fix the variable and function names so that they are more expressive and detailed."
      ],
      "metadata": {
        "id": "IBNjr8knl24s"
      }
    },
    {
      "cell_type": "code",
      "source": [
        "def f():\n",
        "    try:\n",
        "        a = int(input(\"Enter your age: \"))\n",
        "        b = int(input(\"Enter your year of birth: \"))\n",
        "        c = 2050 - b\n",
        "        print(\"You will be\", c, \"years old in 2050.\")\n",
        "    except ValueError:\n",
        "        print(\"Error: Please enter valid numbers.\")\n",
        "    except TypeError:\n",
        "        print(\"Error: An error occurred with the types of inputs.\")\n",
        "\n",
        "f()\n",
        "\n",
        "# Your description here"
      ],
      "metadata": {
        "id": "TJke0i4UmLOj"
      },
      "execution_count": null,
      "outputs": []
    },
    {
      "cell_type": "markdown",
      "source": [
        "### \\*\\*\\**PAUSE****"
      ],
      "metadata": {
        "id": "XhmPgj9QnFNz"
      }
    },
    {
      "cell_type": "markdown",
      "source": [
        "### Libraries\n",
        "\n",
        "Problem 1: Fix the Code\n",
        "\n",
        "The code below is relying on the libraries **matplotlib** (specifically the **pyplot** module) and **numpy**.  The function **line_plot()** is written correctly, but when it is called it doesn't work.  What are we missing?  What do we need to add?"
      ],
      "metadata": {
        "id": "5K86NL-GnLZx"
      }
    },
    {
      "cell_type": "code",
      "source": [
        "def line_plot():\n",
        "    x = np.arange(0, 10, 0.1)\n",
        "    y = np.sin(x)\n",
        "\n",
        "    plt.plot(x, y)\n",
        "    plt.title('Sinusoidal Curve')\n",
        "    plt.xlabel('X-axis')\n",
        "    plt.ylabel('Y-axis')\n",
        "    plt.show()\n",
        "\n",
        "line_plot()"
      ],
      "metadata": {
        "id": "6WaYqPyYmwZZ"
      },
      "execution_count": null,
      "outputs": []
    },
    {
      "cell_type": "markdown",
      "source": [
        "Problem 2: Dice Simulator\n",
        "\n",
        "Using the **random** library, write a program that simulates the roll of an **n**-sided die.  Then, print the outcome of the simulated roll.\n",
        "\n",
        "When calling the function, **simulate_dice_roll()**, the user should be able to input the number of sides that they want as an argument.\n",
        "\n",
        "Challenge: write code to handle errors if the user enters a non-integer."
      ],
      "metadata": {
        "id": "y2sKz_l7os7e"
      }
    },
    {
      "cell_type": "code",
      "source": [
        "# Your code here\n",
        "\n",
        "simulate_dice_roll(6)  # simulates dice roll for a 6-sided die."
      ],
      "metadata": {
        "id": "KC4Bb1JhpISZ"
      },
      "execution_count": null,
      "outputs": []
    },
    {
      "cell_type": "markdown",
      "source": [
        "Problem 3: Response Time\n",
        "\n",
        "Using the **time** library, create a function **measure_response_time()** that measures the time it takes the user to press the **Enter** key after a prompt.\n",
        "\n",
        "Steps:\n",
        "1.   import the library\n",
        "2.   Ask the user to press **Enter** once the prompt appears.\n",
        "3.   Save the start time\n",
        "4.   Prompt the user to press **Enter** again\n",
        "5.   Save the end time\n",
        "6.   Calculate the response time and print it\n",
        "\n",
        "Hint: to get the time with **time**, you can use **time.time()**."
      ],
      "metadata": {
        "id": "rAh2IlCXp3ox"
      }
    },
    {
      "cell_type": "code",
      "source": [
        "# Your code here\n",
        "\n",
        "measure_response_time()"
      ],
      "metadata": {
        "id": "aSG5w22Nq3Nm"
      },
      "execution_count": null,
      "outputs": []
    }
  ]
}